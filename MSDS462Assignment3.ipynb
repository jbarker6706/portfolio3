{
  "nbformat": 4,
  "nbformat_minor": 0,
  "metadata": {
    "colab": {
      "name": "MSDS462Assignment3.ipynb",
      "provenance": [],
      "collapsed_sections": [],
      "authorship_tag": "ABX9TyPBZDi+aU/xy9RQ1p4vHJLi",
      "include_colab_link": true
    },
    "kernelspec": {
      "name": "python3",
      "display_name": "Python 3"
    }
  },
  "cells": [
    {
      "cell_type": "markdown",
      "metadata": {
        "id": "view-in-github",
        "colab_type": "text"
      },
      "source": [
        "<a href=\"https://colab.research.google.com/github/jbarker6706/portfolio3/blob/master/MSDS462Assignment3.ipynb\" target=\"_parent\"><img src=\"https://colab.research.google.com/assets/colab-badge.svg\" alt=\"Open In Colab\"/></a>"
      ]
    },
    {
      "cell_type": "markdown",
      "metadata": {
        "id": "31xGOAAWxQf_",
        "colab_type": "text"
      },
      "source": [
        "\n",
        "**# Detect Labels, Faces, and Landmarks in Images with the Cloud Vision API**"
      ]
    },
    {
      "cell_type": "markdown",
      "metadata": {
        "id": "Id6fkUD0IZNU",
        "colab_type": "text"
      },
      "source": [
        "{ \"requests\": [ { \"image\": { \"source\": { \"gcsImageUri\": \"gs://msds462/donuts.png\" } }, \"features\": [ { \"type\": \"LABEL_DETECTION\", \"maxResults\": 10 } ] } ] }"
      ]
    },
    {
      "cell_type": "markdown",
      "metadata": {
        "id": "O6hVtgqA2GDn",
        "colab_type": "text"
      },
      "source": [
        "curl -s -X POST -H \"Content-Type: application/json\" --data-binary @request.json  https://vision.googleapis.com/v1/images:annotate?key=${API_KEY}"
      ]
    },
    {
      "cell_type": "markdown",
      "metadata": {
        "id": "1syVYnlxw4ri",
        "colab_type": "text"
      },
      "source": [
        "[link text](https://){\n",
        "  \"responses\": [\n",
        "    {\n",
        "      \"labelAnnotations\": [\n",
        "        {\n",
        "          \"mid\": \"/m/01dk8s\",\n",
        "          \"description\": \"Powdered sugar\",\n",
        "          \"score\": 0.9861496,\n",
        "          \"topicality\": 0.9861496\n",
        "        },\n",
        "        {\n",
        "          \"mid\": \"/m/01wydv\",\n",
        "          \"description\": \"Beignet\",\n",
        "          \"score\": 0.9565117,\n",
        "          \"topicality\": 0.9565117\n",
        "        },\n",
        "        {\n",
        "          \"mid\": \"/m/02wbm\",\n",
        "          \"description\": \"Food\",\n",
        "          \"score\": 0.9424965,\n",
        "          \"topicality\": 0.9424965\n",
        "        },\n",
        "        {\n",
        "          \"mid\": \"/m/0hnyx\",\n",
        "          \"description\": \"Pastry\",\n",
        "          \"score\": 0.8173416,\n",
        "          \"topicality\": 0.8173416\n",
        "        },\n",
        "        {\n",
        "          \"mid\": \"/m/02q08p0\",\n",
        "          \"description\": \"Dish\",\n",
        "          \"score\": 0.8076026,\n",
        "          \"topicality\": 0.8076026\n",
        "        },\n",
        "        {\n",
        "          \"mid\": \"/m/01ykh\",\n",
        "          \"description\": \"Cuisine\",\n",
        "          \"score\": 0.79036003,\n",
        "          \"topicality\": 0.79036003\n",
        "        },\n",
        "        {\n",
        "          \"mid\": \"/m/03nsjgy\",\n",
        "          \"description\": \"Kourabiedes\",\n",
        "          \"score\": 0.77726763,\n",
        "          \"topicality\": 0.77726763\n",
        "        },\n",
        "        {\n",
        "          \"mid\": \"/m/06gd3r\",\n",
        "          \"description\": \"Angel wings\",\n",
        "          \"score\": 0.73792106,\n",
        "          \"topicality\": 0.73792106\n",
        "        },\n",
        "        {\n",
        "          \"mid\": \"/m/06x4c\",\n",
        "          \"description\": \"Sugar\",\n",
        "          \"score\": 0.71921736,\n",
        "          \"topicality\": 0.71921736\n",
        "        },\n",
        "        {\n",
        "          \"mid\": \"/m/01zl9v\",\n",
        "          \"description\": \"Zeppole\",\n",
        "          \"score\": 0.7111677,\n",
        "          \"topicality\": 0.7111677\n",
        "        }\n",
        "      ]\n",
        "    }\n",
        "  ]\n",
        "}"
      ]
    },
    {
      "cell_type": "markdown",
      "metadata": {
        "id": "D5xBZMq_yyOZ",
        "colab_type": "text"
      },
      "source": [
        "{\n",
        "  \"requests\": [\n",
        "      {\n",
        "        \"image\": {\n",
        "          \"source\": {\n",
        "              \"gcsImageUri\": \"gs://msds462/donuts.png\"\n",
        "          }\n",
        "        },\n",
        "        \"features\": [\n",
        "          {\n",
        "            \"type\": \"WEB_DETECTION\",\n",
        "            \"maxResults\": 10\n",
        "          }\n",
        "        ]\n",
        "      }\n",
        "  ]\n",
        "}"
      ]
    },
    {
      "cell_type": "markdown",
      "metadata": {
        "id": "_7Kv0fptyLSa",
        "colab_type": "text"
      },
      "source": [
        "curl -s -X POST -H \"Content-Type: application/json\" --data-binary @request.json  https://vision.googleapis.com/v1/images:annotate?key=${API_KEY}"
      ]
    },
    {
      "cell_type": "markdown",
      "metadata": {
        "id": "E4NvM0krzX69",
        "colab_type": "text"
      },
      "source": [
        "{\n",
        "  \"responses\": [\n",
        "    {\n",
        "      \"webDetection\": {\n",
        "        \"webEntities\": [\n",
        "          {\n",
        "            \"entityId\": \"/m/0z5n\",\n",
        "            \"score\": 0.8868,\n",
        "            \"description\": \"Application programming interface\"\n",
        "          },\n",
        "          {\n",
        "            \"entityId\": \"/m/07kg1sq\",\n",
        "            \"score\": 0.3139,\n",
        "            \"description\": \"Encapsulation\"\n",
        "          },\n",
        "          {\n",
        "            \"entityId\": \"/m/0105pbj4\",\n",
        "            \"score\": 0.2713,\n",
        "            \"description\": \"Google Cloud Platform\"\n",
        "          },\n",
        "          {\n",
        "            \"entityId\": \"/m/01hyh_\",\n",
        "            \"score\": 0.2594,\n",
        "            \"description\": \"Machine learning\"\n",
        "          },\n",
        "          ...\n",
        "        ]"
      ]
    },
    {
      "cell_type": "markdown",
      "metadata": {
        "id": "0nLRwJA-zaTX",
        "colab_type": "text"
      },
      "source": [
        "{\n",
        "  \"requests\": [\n",
        "      {\n",
        "        \"image\": {\n",
        "          \"source\": {\n",
        "              \"gcsImageUri\": \"gs://msds462/selfie.png\"\n",
        "          }\n",
        "        },\n",
        "        \"features\": [\n",
        "          {\n",
        "            \"type\": \"FACE_DETECTION\"\n",
        "          },\n",
        "          {\n",
        "            \"type\": \"LANDMARK_DETECTION\"\n",
        "          }\n",
        "        ]\n",
        "      }\n",
        "  ]\n",
        "}"
      ]
    },
    {
      "cell_type": "markdown",
      "metadata": {
        "id": "BVoHqbVBw-LZ",
        "colab_type": "text"
      },
      "source": [
        "curl -s -X POST -H \"Content-Type: application/json\" --data-binary @request.json  https://vision.googleapis.com/v1/images:annotate?key=${API_KEY}"
      ]
    },
    {
      "cell_type": "markdown",
      "metadata": {
        "id": "xNYJH51m7B4M",
        "colab_type": "text"
      },
      "source": [
        "\n",
        "\n",
        "```\n",
        "# This is formatted as code\n",
        "```\n",
        "\n",
        "{\n",
        "      \"faceAnnotations\": [\n",
        "        {\n",
        "          \"boundingPoly\": {\n",
        "            \"vertices\": [\n",
        "              {\n",
        "                \"x\": 669,\n",
        "                \"y\": 324\n",
        "              },\n",
        "              ...\n",
        "            ]\n",
        "          },\n",
        "          \"fdBoundingPoly\": {\n",
        "            ...\n",
        "          },\n",
        "          \"landmarks\": [\n",
        "            {\n",
        "              \"type\": \"LEFT_EYE\",\n",
        "              \"position\": {\n",
        "                \"x\": 692.05646,\n",
        "                \"y\": 372.95868,\n",
        "                \"z\": -0.00025268539\n",
        "              }\n",
        "            },\n",
        "            ...\n",
        "          ],\n",
        "          \"rollAngle\": 0.21619819,\n",
        "          \"panAngle\": -23.027969,\n",
        "          \"tiltAngle\": -1.5531756,\n",
        "          \"detectionConfidence\": 0.72354823,\n",
        "          \"landmarkingConfidence\": 0.20047489,\n",
        "          \"joyLikelihood\": \"POSSIBLE\",\n",
        "          \"sorrowLikelihood\": \"VERY_UNLIKELY\",\n",
        "          \"angerLikelihood\": \"VERY_UNLIKELY\",\n",
        "          \"surpriseLikelihood\": \"VERY_UNLIKELY\",\n",
        "          \"underExposedLikelihood\": \"VERY_UNLIKELY\",\n",
        "          \"blurredLikelihood\": \"VERY_UNLIKELY\",\n",
        "          \"headwearLikelihood\": \"VERY_LIKELY\"\n",
        "        }\n",
        "        ...\n",
        "     }\n",
        "}"
      ]
    },
    {
      "cell_type": "markdown",
      "metadata": {
        "id": "_VGSaUIN7PGV",
        "colab_type": "text"
      },
      "source": [
        "{\n",
        "  \"requests\": [\n",
        "      {\n",
        "        \"image\": {\n",
        "          \"source\": {\n",
        "              \"gcsImageUri\": \"gs://msds462/city.png\"\n",
        "          }\n",
        "        },\n",
        "        \"features\": [\n",
        "          {\n",
        "            \"type\": \"LANDMARK_DETECTION\",\n",
        "            \"maxResults\": 10,\n",
        "          }\n",
        "        ]\n",
        "      }\n",
        "  ]\n",
        "}"
      ]
    },
    {
      "cell_type": "markdown",
      "metadata": {
        "id": "iduZnRRs7X96",
        "colab_type": "text"
      },
      "source": [
        "curl -s -X POST -H \"Content-Type: application/json\" --data-binary @request.json  https://vision.googleapis.com/v1/images:annotate?key=${API_KEY}"
      ]
    },
    {
      "cell_type": "markdown",
      "metadata": {
        "id": "OfrYGDgP7gW0",
        "colab_type": "text"
      },
      "source": [
        "      \"landmarkAnnotations\": [\n",
        "        {\n",
        "          \"mid\": \"/m/041cp3\",\n",
        "          \"description\": \"Boston\",\n",
        "          \"score\": 0.788803,\n",
        "          \"boundingPoly\": {\n",
        "            \"vertices\": [\n",
        "              {\n",
        "                \"y\": 576\n",
        "              },\n",
        "              {\n",
        "                \"x\": 1942,\n",
        "                \"y\": 576\n",
        "              },\n",
        "              {\n",
        "                \"x\": 1942,\n",
        "                \"y\": 1224\n",
        "              },\n",
        "              {\n",
        "                \"y\": 1224\n",
        "              }\n",
        "            ]\n",
        "          },"
      ]
    }
  ]
}